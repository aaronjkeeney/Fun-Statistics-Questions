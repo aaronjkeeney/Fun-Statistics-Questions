{
 "cells": [
  {
   "cell_type": "markdown",
   "metadata": {},
   "source": [
    "## Probability Distribution Visualization Project ##"
   ]
  },
  {
   "cell_type": "markdown",
   "metadata": {},
   "source": [
    "### Question 1: Subtraction of Normal Distributions ###\n",
    "\n",
    "A statistics student of mine asked me a question about how we deal with adding and subtracting normal distributions. I think it is intuitive for most people that the mean of the difference is the difference of the means. That is, the average difference is just the difference of the averages. However, understanding how the standard deviations interact is not nearly as intuitive, especially to those new to statistics. Why on earth are the standard deviations added together in the formula when we are subtracting? What is a Pythagorean sum, anyway?\n",
    "\n",
    "Since students are often taught statistics before calculus (do not let me on this soapbox), showing students a proof is often not helpful. Fortunately, pseudo-random number generators can sample in real time, and students can witness evidence for the formulas they are given in real time. Obviously, this is not a rigorous proof. But let's be real -- mathematical intuition doesn't start with proofs for most people. For most of us mortals, it starts with pictures.\n",
    "\n",
    "In the code block below, the user is able to define a list of sample sizes, as well as the mean and standard deviation for two normal distributions. Then, they can sit back and see how the sample of differences interacts with the theoretical differences in mean and standard deviation."
   ]
  },
  {
   "cell_type": "code",
   "execution_count": 1,
   "metadata": {},
   "outputs": [],
   "source": [
    "# Necessary imports\n",
    "\n",
    "import numpy as np\n",
    "import seaborn as sns\n",
    "import matplotlib.pyplot as plt\n",
    "import math\n",
    "from scipy.stats import norm\n",
    "import time\n",
    "from IPython.display import clear_output\n"
   ]
  },
  {
   "cell_type": "code",
   "execution_count": 2,
   "metadata": {},
   "outputs": [
    {
     "ename": "KeyboardInterrupt",
     "evalue": "",
     "output_type": "error",
     "traceback": [
      "\u001b[0;31m---------------------------------------------------------------------------\u001b[0m",
      "\u001b[0;31mKeyboardInterrupt\u001b[0m                         Traceback (most recent call last)",
      "Cell \u001b[0;32mIn [2], line 43\u001b[0m\n\u001b[1;32m     40\u001b[0m clear_output(wait\u001b[38;5;241m=\u001b[39m\u001b[38;5;28;01mTrue\u001b[39;00m)\n\u001b[1;32m     42\u001b[0m \u001b[38;5;66;03m# Pause for 5 seconds\u001b[39;00m\n\u001b[0;32m---> 43\u001b[0m time\u001b[38;5;241m.\u001b[39msleep(\u001b[38;5;241m5\u001b[39m)\n\u001b[1;32m     45\u001b[0m \u001b[38;5;66;03m# Clear the current axis\u001b[39;00m\n\u001b[1;32m     46\u001b[0m plt\u001b[38;5;241m.\u001b[39mcla()\n",
      "\u001b[0;31mKeyboardInterrupt\u001b[0m: "
     ]
    }
   ],
   "source": [
    "\n",
    "# Define the sample sizes you want to cycle through\n",
    "sample_sizes = [10, 100, 1000, 10000, 100000, 1000000]\n",
    "\n",
    "# Define the means and standard deviations for your two distributions\n",
    "mean_1, sd_1 = 70, 3\n",
    "mean_2, sd_2 = 64.5, 2.5\n",
    "\n",
    "# Create a new figure\n",
    "plt.figure()\n",
    "\n",
    "# Loop over the sample sizes\n",
    "while True:\n",
    "    for sample_size in sample_sizes:\n",
    "        # Generate data points for the two distributions\n",
    "        data_points_1 = np.random.normal(mean_1, sd_1, size=sample_size)\n",
    "        data_points_2 = np.random.normal(mean_2, sd_2, size=sample_size)\n",
    "\n",
    "        # Calculate the differences between the two distributions\n",
    "        differences = [(data_points_1[i] - data_points_2[i]) for i in range(len(data_points_1))]\n",
    "\n",
    "        # Print the mean and standard deviation of the differences\n",
    "        print('Theoretical Mean: ', mean_1 - mean_2)\n",
    "        print('Theoretical Stdev: ', math.sqrt(sd_1**2 + sd_2**2))\n",
    "        print('Sample Size: ', sample_size)\n",
    "        print('Mean: ', np.mean(differences))\n",
    "        print('Stdev:', np.std(differences))\n",
    "\n",
    "        # Plot the density of the differences\n",
    "        x_axis = np.linspace(min(differences), max(differences), 100)\n",
    "        plt.plot(x_axis, norm.pdf(x_axis, mean_1 - mean_2, math.sqrt(sd_1**2 + sd_2**2)), label='Theoretical Density')\n",
    "        sns.histplot(data=differences, stat='density', bins = 2 * math.floor(len(differences) ** (1/3)), kde=True, color='tab:orange', label='Sample Density')\n",
    "\n",
    "        # Add a legend\n",
    "        plt.legend()\n",
    "\n",
    "        # Show the plot\n",
    "        plt.show()\n",
    "\n",
    "        # Clear the output\n",
    "        clear_output(wait=True)\n",
    "\n",
    "        # Pause for 5 seconds\n",
    "        time.sleep(5)\n",
    "\n",
    "        # Clear the current axis\n",
    "        plt.cla()"
   ]
  },
  {
   "cell_type": "code",
   "execution_count": null,
   "metadata": {},
   "outputs": [],
   "source": []
  }
 ],
 "metadata": {
  "kernelspec": {
   "display_name": "Python 3",
   "language": "python",
   "name": "python3"
  },
  "language_info": {
   "codemirror_mode": {
    "name": "ipython",
    "version": 3
   },
   "file_extension": ".py",
   "mimetype": "text/x-python",
   "name": "python",
   "nbconvert_exporter": "python",
   "pygments_lexer": "ipython3",
   "version": "3.9.6"
  }
 },
 "nbformat": 4,
 "nbformat_minor": 2
}
